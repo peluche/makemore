{
 "cells": [
  {
   "cell_type": "markdown",
   "metadata": {},
   "source": [
    "# makemore 2\n",
    "Following a tutorial from [Andrej Karpathy](https://karpathy.ai/):\n",
    "- [The spelled-out intro to language modeling: Building makemore Part 2: MLP](https://youtu.be/TCH_1BHY58I?list=PLAqhIrjkxbuWI23v9cThsA9GvCAUhRvKZ)\n",
    "\n",
    "Implement MultiLayer Perceptron (MLP) character-level language model. Given a N-gram of characters, predict the next character. "
   ]
  },
  {
   "cell_type": "markdown",
   "metadata": {},
   "source": [
    "# Setup"
   ]
  },
  {
   "cell_type": "code",
   "execution_count": null,
   "metadata": {},
   "outputs": [],
   "source": [
    "# !pip install torch matplotlib graphviz"
   ]
  },
  {
   "cell_type": "markdown",
   "metadata": {},
   "source": [
    "# Load the data"
   ]
  },
  {
   "cell_type": "code",
   "execution_count": 1,
   "metadata": {},
   "outputs": [],
   "source": [
    "words = open('names.txt', 'r').read().splitlines()"
   ]
  },
  {
   "cell_type": "markdown",
   "metadata": {},
   "source": [
    "# Implement the model"
   ]
  },
  {
   "cell_type": "code",
   "execution_count": 11,
   "metadata": {},
   "outputs": [],
   "source": [
    "import torch\n",
    "import torch.nn.functional as F"
   ]
  },
  {
   "cell_type": "code",
   "execution_count": 3,
   "metadata": {},
   "outputs": [],
   "source": [
    "# build the vocabulary and mappings\n",
    "chars = sorted(list(set(''.join(words))))\n",
    "stoi = {s: i + 1 for i, s in enumerate(chars)}\n",
    "stoi['.'] = 0\n",
    "itos = {i: s for s, i in stoi.items()}"
   ]
  },
  {
   "cell_type": "code",
   "execution_count": 8,
   "metadata": {},
   "outputs": [
    {
     "name": "stdout",
     "output_type": "stream",
     "text": [
      "given context: ... expected next char: e\n",
      "given context: ..e expected next char: m\n",
      "given context: .em expected next char: m\n",
      "given context: emm expected next char: a\n",
      "given context: mma expected next char: .\n",
      "given context: ... expected next char: o\n",
      "given context: ..o expected next char: l\n",
      "given context: .ol expected next char: i\n",
      "given context: oli expected next char: v\n",
      "given context: liv expected next char: i\n",
      "given context: ivi expected next char: a\n",
      "given context: via expected next char: .\n",
      "given context: ... expected next char: a\n",
      "given context: ..a expected next char: v\n",
      "given context: .av expected next char: a\n",
      "given context: ava expected next char: .\n",
      "given context: ... expected next char: i\n",
      "given context: ..i expected next char: s\n",
      "given context: .is expected next char: a\n",
      "given context: isa expected next char: b\n",
      "given context: sab expected next char: e\n",
      "given context: abe expected next char: l\n",
      "given context: bel expected next char: l\n",
      "given context: ell expected next char: a\n",
      "given context: lla expected next char: .\n",
      "given context: ... expected next char: s\n",
      "given context: ..s expected next char: o\n",
      "given context: .so expected next char: p\n",
      "given context: sop expected next char: h\n",
      "given context: oph expected next char: i\n",
      "given context: phi expected next char: a\n",
      "given context: hia expected next char: .\n"
     ]
    }
   ],
   "source": [
    "# build the training set\n",
    "block_size = 3 # the N-gram context size\n",
    "X, Y = [], []\n",
    "for w in words[:5]:\n",
    "    context = [0] * block_size\n",
    "    for ch in w + '.':\n",
    "        ix = stoi[ch]\n",
    "        X.append(context)\n",
    "        Y.append(ix)\n",
    "        print(f'given context: {\"\".join(itos[i] for i in context)} expected next char: {itos[ix]}')\n",
    "        context = context[1:] + [ix]\n",
    "\n",
    "X = torch.tensor(X)\n",
    "Y = torch.tensor(Y)"
   ]
  },
  {
   "cell_type": "markdown",
   "metadata": {},
   "source": [
    "## Working through the model"
   ]
  },
  {
   "cell_type": "code",
   "execution_count": 33,
   "metadata": {},
   "outputs": [],
   "source": [
    "# Embedding layer:\n",
    "# cram the data (vocabulary) into a 2 dimentional space\n",
    "C = torch.randn((len(stoi), 2))"
   ]
  },
  {
   "cell_type": "code",
   "execution_count": 46,
   "metadata": {},
   "outputs": [
    {
     "name": "stdout",
     "output_type": "stream",
     "text": [
      "inp @ C=tensor([-0.4171,  1.2442])\n",
      "C[5]=tensor([-0.4171,  1.2442])\n",
      "C[[1, 2, 3]]=tensor([[-0.0769, -0.7655],\n",
      "        [-0.1885,  0.9772],\n",
      "        [ 1.0304,  1.8648]])\n",
      "C[X]=tensor([[[-0.5755, -1.3022],\n",
      "         [-0.5755, -1.3022],\n",
      "         [-0.5755, -1.3022]],\n",
      "\n",
      "        [[-0.5755, -1.3022],\n",
      "         [-0.5755, -1.3022],\n",
      "         [-0.4171,  1.2442]],\n",
      "\n",
      "        [[-0.5755, -1.3022],\n",
      "         [-0.4171,  1.2442],\n",
      "         [ 0.7413,  0.4988]],\n",
      "\n",
      "        [[-0.4171,  1.2442],\n",
      "         [ 0.7413,  0.4988],\n",
      "         [ 0.7413,  0.4988]],\n",
      "\n",
      "        [[ 0.7413,  0.4988],\n",
      "         [ 0.7413,  0.4988],\n",
      "         [-0.0769, -0.7655]],\n",
      "\n",
      "        [[-0.5755, -1.3022],\n",
      "         [-0.5755, -1.3022],\n",
      "         [-0.5755, -1.3022]],\n",
      "\n",
      "        [[-0.5755, -1.3022],\n",
      "         [-0.5755, -1.3022],\n",
      "         [-0.6066, -1.0406]],\n",
      "\n",
      "        [[-0.5755, -1.3022],\n",
      "         [-0.6066, -1.0406],\n",
      "         [ 0.2635,  1.4497]],\n",
      "\n",
      "        [[-0.6066, -1.0406],\n",
      "         [ 0.2635,  1.4497],\n",
      "         [-0.9866, -1.4730]],\n",
      "\n",
      "        [[ 0.2635,  1.4497],\n",
      "         [-0.9866, -1.4730],\n",
      "         [-1.9873,  0.3612]],\n",
      "\n",
      "        [[-0.9866, -1.4730],\n",
      "         [-1.9873,  0.3612],\n",
      "         [-0.9866, -1.4730]],\n",
      "\n",
      "        [[-1.9873,  0.3612],\n",
      "         [-0.9866, -1.4730],\n",
      "         [-0.0769, -0.7655]],\n",
      "\n",
      "        [[-0.5755, -1.3022],\n",
      "         [-0.5755, -1.3022],\n",
      "         [-0.5755, -1.3022]],\n",
      "\n",
      "        [[-0.5755, -1.3022],\n",
      "         [-0.5755, -1.3022],\n",
      "         [-0.0769, -0.7655]],\n",
      "\n",
      "        [[-0.5755, -1.3022],\n",
      "         [-0.0769, -0.7655],\n",
      "         [-1.9873,  0.3612]],\n",
      "\n",
      "        [[-0.0769, -0.7655],\n",
      "         [-1.9873,  0.3612],\n",
      "         [-0.0769, -0.7655]],\n",
      "\n",
      "        [[-0.5755, -1.3022],\n",
      "         [-0.5755, -1.3022],\n",
      "         [-0.5755, -1.3022]],\n",
      "\n",
      "        [[-0.5755, -1.3022],\n",
      "         [-0.5755, -1.3022],\n",
      "         [-0.9866, -1.4730]],\n",
      "\n",
      "        [[-0.5755, -1.3022],\n",
      "         [-0.9866, -1.4730],\n",
      "         [-2.0824, -1.1336]],\n",
      "\n",
      "        [[-0.9866, -1.4730],\n",
      "         [-2.0824, -1.1336],\n",
      "         [-0.0769, -0.7655]],\n",
      "\n",
      "        [[-2.0824, -1.1336],\n",
      "         [-0.0769, -0.7655],\n",
      "         [-0.1885,  0.9772]],\n",
      "\n",
      "        [[-0.0769, -0.7655],\n",
      "         [-0.1885,  0.9772],\n",
      "         [-0.4171,  1.2442]],\n",
      "\n",
      "        [[-0.1885,  0.9772],\n",
      "         [-0.4171,  1.2442],\n",
      "         [ 0.2635,  1.4497]],\n",
      "\n",
      "        [[-0.4171,  1.2442],\n",
      "         [ 0.2635,  1.4497],\n",
      "         [ 0.2635,  1.4497]],\n",
      "\n",
      "        [[ 0.2635,  1.4497],\n",
      "         [ 0.2635,  1.4497],\n",
      "         [-0.0769, -0.7655]],\n",
      "\n",
      "        [[-0.5755, -1.3022],\n",
      "         [-0.5755, -1.3022],\n",
      "         [-0.5755, -1.3022]],\n",
      "\n",
      "        [[-0.5755, -1.3022],\n",
      "         [-0.5755, -1.3022],\n",
      "         [-2.0824, -1.1336]],\n",
      "\n",
      "        [[-0.5755, -1.3022],\n",
      "         [-2.0824, -1.1336],\n",
      "         [-0.6066, -1.0406]],\n",
      "\n",
      "        [[-2.0824, -1.1336],\n",
      "         [-0.6066, -1.0406],\n",
      "         [ 0.4695, -1.8879]],\n",
      "\n",
      "        [[-0.6066, -1.0406],\n",
      "         [ 0.4695, -1.8879],\n",
      "         [-0.2937,  1.0911]],\n",
      "\n",
      "        [[ 0.4695, -1.8879],\n",
      "         [-0.2937,  1.0911],\n",
      "         [-0.9866, -1.4730]],\n",
      "\n",
      "        [[-0.2937,  1.0911],\n",
      "         [-0.9866, -1.4730],\n",
      "         [-0.0769, -0.7655]]])\n",
      "torch.equal(C[X][13, 2], C[1])=True\n"
     ]
    }
   ],
   "source": [
    "# One way to compute the embeddings for the vocab element 5 is to do a matrix multiplication of the one-hot vector for 5 with the embedding matrix C:\n",
    "inp = F.one_hot(torch.tensor(5), num_classes=len(itos)).float()\n",
    "print(f'{inp @ C=}')\n",
    "# this if equivallent to retrieving the row 5 from the embedding matrix\n",
    "print(f'{C[5]=}')\n",
    "\n",
    "# there is synthactic sugar to retrieve multiple rows at once\n",
    "print(f'{C[[1, 2, 3]]=}')\n",
    "# or even compute the embeddings for entire matrices\n",
    "print(f'{C[X]=}')\n",
    "\n",
    "# because X[13, 2] == 1\n",
    "print(f'{torch.equal(C[X][13, 2], C[1])=}')\n"
   ]
  },
  {
   "cell_type": "code",
   "execution_count": 48,
   "metadata": {},
   "outputs": [
    {
     "data": {
      "text/plain": [
       "torch.Size([32, 3, 2])"
      ]
     },
     "execution_count": 48,
     "metadata": {},
     "output_type": "execute_result"
    }
   ],
   "source": [
    "emb = C[X]\n",
    "emb.shape"
   ]
  },
  {
   "cell_type": "code",
   "execution_count": 71,
   "metadata": {},
   "outputs": [
    {
     "data": {
      "text/plain": [
       "torch.Size([32, 100])"
      ]
     },
     "execution_count": 71,
     "metadata": {},
     "output_type": "execute_result"
    }
   ],
   "source": [
    "# 6 because we have 3 embeddings (we use N-grams of size N=3) and each embedding is 2 dimentional\n",
    "# 100 is the (arbitrary) size of the hidden layer\n",
    "W1 = torch.randn((6, 100))\n",
    "b1 = torch.randn(100)\n",
    "\n",
    "# juggle with dimensions\n",
    "# print(f'{emb.shape=}')\n",
    "# print(f'{emb.view(32, 6).shape=}')\n",
    "\n",
    "h = torch.tanh(emb.view(-1, 6) @ W1 + b1)\n",
    "h.shape"
   ]
  },
  {
   "cell_type": "code",
   "execution_count": 90,
   "metadata": {},
   "outputs": [
    {
     "name": "stdout",
     "output_type": "stream",
     "text": [
      "loss=tensor(17.7309)\n",
      "loss2=tensor(17.7309)\n"
     ]
    }
   ],
   "source": [
    "# create the output layer\n",
    "W2 = torch.randn((100, len(itos)))\n",
    "b2 = torch.randn(len(itos))\n",
    "\n",
    "logits = h @ W2 + b2\n",
    "\n",
    "# compute the loss\n",
    "counts = logits.exp()\n",
    "probs = counts / counts.sum(1, keepdim=True)\n",
    "loss = -probs[torch.arange(len(X)), Y].log().mean()\n",
    "print(f'{loss=}')\n",
    "\n",
    "# which is equivallent to\n",
    "loss2 = F.cross_entropy(logits, Y)\n",
    "print(f'{loss2=}')"
   ]
  },
  {
   "cell_type": "markdown",
   "metadata": {},
   "source": [
    "## Refactored model"
   ]
  },
  {
   "cell_type": "code",
   "execution_count": 113,
   "metadata": {},
   "outputs": [],
   "source": [
    "g = torch.Generator().manual_seed(2147483647)\n",
    "C = torch.randn((len(stoi), 2), generator=g)\n",
    "W1 = torch.randn((6, 100), generator=g)\n",
    "b1 = torch.randn(100, generator=g)\n",
    "W2 = torch.randn((100, len(itos)), generator=g)\n",
    "b2 = torch.randn(len(itos), generator=g)\n",
    "parameters = [C, W1, b1, W2, b2]"
   ]
  },
  {
   "cell_type": "code",
   "execution_count": 119,
   "metadata": {},
   "outputs": [],
   "source": [
    "# hyperparameters\n",
    "learning_rate = 0.1\n",
    "epoch = 100"
   ]
  },
  {
   "cell_type": "code",
   "execution_count": 115,
   "metadata": {},
   "outputs": [],
   "source": [
    "for p in parameters:\n",
    "    p.requires_grad = True"
   ]
  },
  {
   "cell_type": "code",
   "execution_count": 132,
   "metadata": {},
   "outputs": [
    {
     "name": "stdout",
     "output_type": "stream",
     "text": [
      "loss.item()=0.25492164492607117\n",
      "loss.item()=0.2549186944961548\n",
      "loss.item()=0.254915714263916\n",
      "loss.item()=0.25491267442703247\n",
      "loss.item()=0.2549097239971161\n",
      "loss.item()=0.2549067735671997\n",
      "loss.item()=0.25490376353263855\n",
      "loss.item()=0.25490084290504456\n",
      "loss.item()=0.2548978328704834\n",
      "loss.item()=0.2548949122428894\n",
      "loss.item()=0.25489193201065063\n",
      "loss.item()=0.25488898158073425\n",
      "loss.item()=0.25488612055778503\n",
      "loss.item()=0.25488314032554626\n",
      "loss.item()=0.25488021969795227\n",
      "loss.item()=0.2548772692680359\n",
      "loss.item()=0.2548743784427643\n",
      "loss.item()=0.2548714578151703\n",
      "loss.item()=0.2548685669898987\n",
      "loss.item()=0.2548656761646271\n",
      "loss.item()=0.25486278533935547\n",
      "loss.item()=0.2548598349094391\n",
      "loss.item()=0.25485697388648987\n",
      "loss.item()=0.2548540532588959\n",
      "loss.item()=0.25485122203826904\n",
      "loss.item()=0.25484833121299744\n",
      "loss.item()=0.25484541058540344\n",
      "loss.item()=0.2548425793647766\n",
      "loss.item()=0.2548397183418274\n",
      "loss.item()=0.2548368573188782\n",
      "loss.item()=0.25483402609825134\n",
      "loss.item()=0.2548311650753021\n",
      "loss.item()=0.2548283338546753\n",
      "loss.item()=0.2548254728317261\n",
      "loss.item()=0.25482261180877686\n",
      "loss.item()=0.2548198699951172\n",
      "loss.item()=0.25481700897216797\n",
      "loss.item()=0.2548142075538635\n",
      "loss.item()=0.2548113763332367\n",
      "loss.item()=0.25480860471725464\n",
      "loss.item()=0.2548057734966278\n",
      "loss.item()=0.25480297207832336\n",
      "loss.item()=0.2548002004623413\n",
      "loss.item()=0.25479739904403687\n",
      "loss.item()=0.2547946274280548\n",
      "loss.item()=0.254791796207428\n",
      "loss.item()=0.2547890245914459\n",
      "loss.item()=0.25478628277778625\n",
      "loss.item()=0.2547835111618042\n",
      "loss.item()=0.25478076934814453\n",
      "loss.item()=0.2547779977321625\n",
      "loss.item()=0.2547752261161804\n",
      "loss.item()=0.25477245450019836\n",
      "loss.item()=0.2547697424888611\n",
      "loss.item()=0.2547670006752014\n",
      "loss.item()=0.25476425886154175\n",
      "loss.item()=0.25476154685020447\n",
      "loss.item()=0.2547587752342224\n",
      "loss.item()=0.25475606322288513\n",
      "loss.item()=0.25475335121154785\n",
      "loss.item()=0.25475063920021057\n",
      "loss.item()=0.2547479569911957\n",
      "loss.item()=0.2547452449798584\n",
      "loss.item()=0.2547425627708435\n",
      "loss.item()=0.25473982095718384\n",
      "loss.item()=0.25473716855049133\n",
      "loss.item()=0.25473448634147644\n",
      "loss.item()=0.25473180413246155\n",
      "loss.item()=0.25472909212112427\n",
      "loss.item()=0.25472643971443176\n",
      "loss.item()=0.25472378730773926\n",
      "loss.item()=0.25472110509872437\n",
      "loss.item()=0.25471845269203186\n",
      "loss.item()=0.25471580028533936\n",
      "loss.item()=0.25471311807632446\n",
      "loss.item()=0.25471052527427673\n",
      "loss.item()=0.25470784306526184\n",
      "loss.item()=0.25470519065856934\n",
      "loss.item()=0.2547025680541992\n",
      "loss.item()=0.2546999454498291\n",
      "loss.item()=0.2546972930431366\n",
      "loss.item()=0.2546946704387665\n",
      "loss.item()=0.25469207763671875\n",
      "loss.item()=0.25468945503234863\n",
      "loss.item()=0.2546868622303009\n",
      "loss.item()=0.2546842694282532\n",
      "loss.item()=0.25468167662620544\n",
      "loss.item()=0.2546790838241577\n",
      "loss.item()=0.2546764612197876\n",
      "loss.item()=0.25467386841773987\n",
      "loss.item()=0.2546713352203369\n",
      "loss.item()=0.2546687424182892\n",
      "loss.item()=0.25466614961624146\n",
      "loss.item()=0.2546635866165161\n",
      "loss.item()=0.25466102361679077\n",
      "loss.item()=0.25465846061706543\n",
      "loss.item()=0.2546558976173401\n",
      "loss.item()=0.25465333461761475\n",
      "loss.item()=0.2546507716178894\n",
      "loss.item()=0.25464826822280884\n"
     ]
    }
   ],
   "source": [
    "for _ in range(epoch):\n",
    "    # forward pass\n",
    "    emb = C[X]\n",
    "    h = torch.tanh(emb.view(-1, 6) @ W1 + b1)\n",
    "    logits = h @ W2 + b2\n",
    "    loss = F.cross_entropy(logits, Y)\n",
    "    print(f'{loss.item()=}')\n",
    "\n",
    "    # backward pass\n",
    "    for p in parameters:\n",
    "        p.grad = None\n",
    "    loss.backward()\n",
    "\n",
    "    # update the parameters\n",
    "    for p in parameters:\n",
    "        p.data -= learning_rate * p.grad"
   ]
  }
 ],
 "metadata": {
  "kernelspec": {
   "display_name": "venv_hf_nlp",
   "language": "python",
   "name": "venv_hf_nlp"
  },
  "language_info": {
   "codemirror_mode": {
    "name": "ipython",
    "version": 3
   },
   "file_extension": ".py",
   "mimetype": "text/x-python",
   "name": "python",
   "nbconvert_exporter": "python",
   "pygments_lexer": "ipython3",
   "version": "3.11.2"
  },
  "orig_nbformat": 4
 },
 "nbformat": 4,
 "nbformat_minor": 2
}
